{
 "cells": [
  {
   "cell_type": "markdown",
   "metadata": {},
   "source": [
    "#### Own Neural Network Model"
   ]
  },
  {
   "cell_type": "code",
   "execution_count": 48,
   "metadata": {
    "collapsed": true
   },
   "outputs": [],
   "source": [
    "import numpy as np\n",
    "import pandas as pd\n",
    "import matplotlib.pyplot as plt\n",
    "%matplotlib inline"
   ]
  },
  {
   "cell_type": "code",
   "execution_count": 76,
   "metadata": {
    "collapsed": true
   },
   "outputs": [],
   "source": [
    "#number of neurons in each layer\n",
    "no_inputs = 2 #input layer\n",
    "hidden_layer = 2\n",
    "output_layer = 2"
   ]
  },
  {
   "cell_type": "markdown",
   "metadata": {},
   "source": [
    "#### Sigmoid and Sigmoid Gradient Function"
   ]
  },
  {
   "cell_type": "code",
   "execution_count": 50,
   "metadata": {
    "collapsed": true
   },
   "outputs": [],
   "source": [
    "def sigmoid(z):\n",
    "    return 1/(1+(np.exp(-z)))"
   ]
  },
  {
   "cell_type": "code",
   "execution_count": 51,
   "metadata": {
    "collapsed": true
   },
   "outputs": [],
   "source": [
    "def gradient_sigmoid(z):\n",
    "    zsigmoid = sigmoid(z)\n",
    "    return np.multiply(zsigmoid, (1-zsigmoid))\n"
   ]
  },
  {
   "cell_type": "markdown",
   "metadata": {},
   "source": [
    "#### Input Array, Response Array"
   ]
  },
  {
   "cell_type": "code",
   "execution_count": 52,
   "metadata": {
    "collapsed": true
   },
   "outputs": [],
   "source": [
    "x_input_matrix = np.ones(no_inputs+1).reshape(no_inputs+1, 1)"
   ]
  },
  {
   "cell_type": "code",
   "execution_count": 78,
   "metadata": {
    "collapsed": true
   },
   "outputs": [],
   "source": [
    "# 1st is bias term => x_input_matrix[0]\n",
    "x_input_matrix[1], x_input_matrix[2] = 0.05, 0.1"
   ]
  },
  {
   "cell_type": "code",
   "execution_count": 79,
   "metadata": {
    "collapsed": true
   },
   "outputs": [],
   "source": [
    "#response\n",
    "y_response = np.ones(output_layer).reshape(output_layer,1)\n",
    "y_response[0], y_response[1] = 0.01,0.99"
   ]
  },
  {
   "cell_type": "markdown",
   "metadata": {},
   "source": [
    "#### All Cost history, Max Iterations, Theta_one & Theta_two(all values store)"
   ]
  },
  {
   "cell_type": "code",
   "execution_count": 77,
   "metadata": {
    "collapsed": true
   },
   "outputs": [],
   "source": [
    "error_history = []\n",
    "count_iterations = []\n",
    "iterations = 200\n",
    "#matrix 200*6( store all theta values) \n",
    "theta_one_plot_store = np.ones(iterations*6).reshape(iterations, no_inputs*(hidden_layer+1))\n",
    "theta_two_plot_store = np.ones(iterations*6).reshape(iterations, hidden_layer*(output_layer+1))"
   ]
  },
  {
   "cell_type": "code",
   "execution_count": 80,
   "metadata": {
    "collapsed": true
   },
   "outputs": [],
   "source": [
    "#learning rate\n",
    "alpha = 0.1\n",
    "#seed for testing\n",
    "np.random.seed(25)\n",
    "#activation one = x_input_matrix(with bias)\n",
    "a_one = x_input_matrix\n",
    "#no of samples\n",
    "samples = x_input_matrix.shape[1]"
   ]
  },
  {
   "cell_type": "markdown",
   "metadata": {},
   "source": [
    "#### Own Forward Propagation Function"
   ]
  },
  {
   "cell_type": "code",
   "execution_count": 57,
   "metadata": {
    "collapsed": true
   },
   "outputs": [],
   "source": [
    "def forward_propagation(theta_one, theta_two):\n",
    "    z_two = np.dot(theta_one, x_input_matrix)\n",
    "    #print(z_two)\n",
    "    #activation two\n",
    "    a_two = sigmoid(z_two)\n",
    "    a_two =np.insert(a_two,0,1,axis=0)\n",
    "    #print(a_two)\n",
    "    z_three = np.dot(theta_two,a_two)\n",
    "    #print(z_three)\n",
    "    a_three = sigmoid(z_three)\n",
    "    #print(a_three)\n",
    "    #e_total = ((y_response[0] - a_three[0])**2)/2 + ((y_response[1] - a_three[1])**2)/2\n",
    "    return z_two,a_two,z_three,a_three"
   ]
  },
  {
   "cell_type": "markdown",
   "metadata": {},
   "source": [
    "#### Own Backward Propagation Function"
   ]
  },
  {
   "cell_type": "code",
   "execution_count": 81,
   "metadata": {
    "collapsed": true
   },
   "outputs": [],
   "source": [
    "def back_propagation(z_two, a_two, z_three, a_three, theta_one, theta_two):\n",
    "    #mean square error as the cost function\n",
    "    mean_square_error = np.sum(np.square(np.subtract(a_three, y_response)))/2\n",
    "    error_history.append(mean_square_error)\n",
    "    #print(error_history)\n",
    "    d3 = a_three - y_response\n",
    "    #print(d3)\n",
    "    z2_sigGrad = gradient_sigmoid(np.insert(z_two, 0, 1, axis=0))\n",
    "    \n",
    "    #computing delta d2,d3\n",
    "    d2 = np.multiply(np.dot(theta_two.T, d3), z2_sigGrad)\n",
    "    d2 =d2[1:,:]\n",
    "    #print(d2)\n",
    "    bigdelta_one = d2.dot(a_one.T)\n",
    "    bigdelta_two = d3.dot(a_two.T)\n",
    "\n",
    "    #print(bigdelta_one)\n",
    "    #print(bigdelta_two)\n",
    "    theta_one_gradient = bigdelta_one/samples\n",
    "    theta_two_gradient = bigdelta_two/samples\n",
    "    \n",
    "    #updating theta values for next iterations\n",
    "    theta_one  = np.subtract(theta_one, np.multiply(alpha,theta_one_gradient))\n",
    "    theta_two = np.subtract(theta_two, np.multiply(alpha, theta_two_gradient))\n",
    "\n",
    "    return theta_one, theta_two"
   ]
  },
  {
   "cell_type": "markdown",
   "metadata": {},
   "source": [
    "#### Own Neural Network Function"
   ]
  },
  {
   "cell_type": "code",
   "execution_count": 82,
   "metadata": {
    "collapsed": true
   },
   "outputs": [],
   "source": [
    "def my_neural_network():\n",
    "    #Initialize values in Θ(1) and Θ(2) to be uniformly distributed random numbers between 0.0 and 1.0.\n",
    "    theta_one = np.random.uniform(0,1, no_inputs*(hidden_layer+1)).reshape(no_inputs, hidden_layer+1)\n",
    "    theta_two = np.random.uniform(0,1, hidden_layer*(output_layer+1)).reshape(hidden_layer, output_layer+1)\n",
    "    \n",
    "    for i in range(0, iterations):\n",
    "        z_two, a_two, z_three, a_three = forward_propagation(theta_one, theta_two)\n",
    "        theta_one, theta_two = back_propagation(z_two, a_two, z_three, a_three, theta_one, theta_two)\n",
    "        count_iterations.append(i)\n",
    "        theta_one_plot_store[i] = theta_one.reshape(6)\n",
    "        theta_two_plot_store[i] = theta_two.reshape(6)\n",
    "    return theta_one, theta_two,error_history"
   ]
  },
  {
   "cell_type": "code",
   "execution_count": 83,
   "metadata": {
    "collapsed": true
   },
   "outputs": [],
   "source": [
    "trained_theta1, trained_theta2, errors= my_neural_network()"
   ]
  },
  {
   "cell_type": "code",
   "execution_count": 84,
   "metadata": {},
   "outputs": [
    {
     "data": {
      "text/plain": [
       "array([[ 1.30632977,  0.60408721,  0.3224595 ],\n",
       "       [ 0.42541172,  0.42307515,  0.1413256 ]])"
      ]
     },
     "execution_count": 84,
     "metadata": {},
     "output_type": "execute_result"
    }
   ],
   "source": [
    "trained_theta1"
   ]
  },
  {
   "cell_type": "code",
   "execution_count": 85,
   "metadata": {},
   "outputs": [
    {
     "data": {
      "text/plain": [
       "array([[-1.78847896, -1.38829055, -0.82380254],\n",
       "       [ 1.78080097,  1.45552926,  0.90864139]])"
      ]
     },
     "execution_count": 85,
     "metadata": {},
     "output_type": "execute_result"
    }
   ],
   "source": [
    "trained_theta2"
   ]
  },
  {
   "cell_type": "code",
   "execution_count": 86,
   "metadata": {},
   "outputs": [
    {
     "data": {
      "text/plain": [
       "[0.35236007870630687,\n",
       " 0.3293887939256715,\n",
       " 0.30674188212819309,\n",
       " 0.28463770530075494,\n",
       " 0.26327900331383136,\n",
       " 0.24284083330870118,\n",
       " 0.22346249130286064,\n",
       " 0.20524368580844815,\n",
       " 0.18824457825645885,\n",
       " 0.17248885893251176,\n",
       " 0.15796883277836488,\n",
       " 0.14465151483101951,\n",
       " 0.1324849064421014,\n",
       " 0.12140385983176022,\n",
       " 0.111335175446533,\n",
       " 0.10220177485891688,\n",
       " 0.093925935944379951,\n",
       " 0.086431667638606186,\n",
       " 0.07964634830040393,\n",
       " 0.073501766954181702,\n",
       " 0.067934702015857079,\n",
       " 0.062887156647499401,\n",
       " 0.05830635002777549,\n",
       " 0.054144543566527287,\n",
       " 0.050358762628114097,\n",
       " 0.046910458631680071,\n",
       " 0.043765143687412883,\n",
       " 0.040892020013960917,\n",
       " 0.038263618882106838,\n",
       " 0.035855458307449864,\n",
       " 0.033645724752503568,\n",
       " 0.031614981330998042,\n",
       " 0.029745903132440812,\n",
       " 0.028023039063290376,\n",
       " 0.026432598847325198,\n",
       " 0.024962263402358076,\n",
       " 0.023601016610109458,\n",
       " 0.022338996445757181,\n",
       " 0.021167363479746872,\n",
       " 0.020078184869123182,\n",
       " 0.019064332092851379,\n",
       " 0.01811939083770819,\n",
       " 0.01723758159673644,\n",
       " 0.016413689693621711,\n",
       " 0.015643003589263529,\n",
       " 0.014921260458885543,\n",
       " 0.014244598148215564,\n",
       " 0.013609512725400385,\n",
       " 0.013012820941779166,\n",
       " 0.012451627000129063,\n",
       " 0.011923293104384895,\n",
       " 0.011425413331067337,\n",
       " 0.010955790420671766,\n",
       " 0.010512415137986101,\n",
       " 0.010093447894566433,\n",
       " 0.0096972023651867405,\n",
       " 0.0093221308636928339,\n",
       " 0.0089668112729649613,\n",
       " 0.0086299353491800009,\n",
       " 0.0083102982427594799,\n",
       " 0.0080067890977204605,\n",
       " 0.0077183826079914811,\n",
       " 0.0074441314239418466,\n",
       " 0.0071831593151848554,\n",
       " 0.0069346550069019405,\n",
       " 0.0066978666167085057,\n",
       " 0.0064720966276303974,\n",
       " 0.0062566973402418463,\n",
       " 0.006051066753572555,\n",
       " 0.0058546448301410089,\n",
       " 0.0056669101055205149,\n",
       " 0.0054873766072811268,\n",
       " 0.0053155910520553823,\n",
       " 0.0051511302929142513,\n",
       " 0.0049935989922724293,\n",
       " 0.0048426274982183784,\n",
       " 0.0046978699045304769,\n",
       " 0.0045590022767333397,\n",
       " 0.0044257210284014831,\n",
       " 0.004297741433561362,\n",
       " 0.0041747962625013979,\n",
       " 0.0040566345295954985,\n",
       " 0.0039430203428989577,\n",
       " 0.0038337318463021637,\n",
       " 0.0037285602459427919,\n",
       " 0.0036273089133941256,\n",
       " 0.003529792558876671,\n",
       " 0.0034358364683927094,\n",
       " 0.0033452757992675913,\n",
       " 0.0032579549291049024,\n",
       " 0.0031737268536321168,\n",
       " 0.0030924526293347422,\n",
       " 0.0030140008571558556,\n",
       " 0.0029382472038787092,\n",
       " 0.0028650739581168065,\n",
       " 0.0027943696181125252,\n",
       " 0.0027260285087947192,\n",
       " 0.0026599504257712007,\n",
       " 0.0025960403041352868,\n",
       " 0.0025342079101500219,\n",
       " 0.0024743675540403725,\n",
       " 0.0024164378222745709,\n",
       " 0.0023603413278530305,\n",
       " 0.0023060044772475899,\n",
       " 0.0022533572527465729,\n",
       " 0.0022023330090642757,\n",
       " 0.0021528682831665961,\n",
       " 0.0021049026163497304,\n",
       " 0.0020583783876866038,\n",
       " 0.0020132406580260446,\n",
       " 0.0019694370237948165,\n",
       " 0.0019269174799109755,\n",
       " 0.0018856342911714699,\n",
       " 0.0018455418715259009,\n",
       " 0.0018065966706935508,\n",
       " 0.0017687570676222339,\n",
       " 0.0017319832703253388,\n",
       " 0.0016962372216681549,\n",
       " 0.001661482510706724,\n",
       " 0.0016276842892114824,\n",
       " 0.0015948091930350792,\n",
       " 0.0015628252680085033,\n",
       " 0.0015317019000725646,\n",
       " 0.0015014097493724799,\n",
       " 0.0014719206880631115,\n",
       " 0.0014432077415898362,\n",
       " 0.0014152450332267953,\n",
       " 0.0013880077316693207,\n",
       " 0.0013614720014914284,\n",
       " 0.0013356149562922177,\n",
       " 0.0013104146143671199,\n",
       " 0.0012858498567508338,\n",
       " 0.0012619003874894171,\n",
       " 0.0012385466960080603,\n",
       " 0.0012157700214504041,\n",
       " 0.0011935523188730244,\n",
       " 0.001171876227186575,\n",
       " 0.0011507250387420283,\n",
       " 0.0011300826704669779,\n",
       " 0.0011099336364631405,\n",
       " 0.0010902630219817417,\n",
       " 0.0010710564586988965,\n",
       " 0.0010523001012177631,\n",
       " 0.0010339806047290315,\n",
       " 0.0010160851037654762,\n",
       " 0.00099860119199014037,\n",
       " 0.00098151690296168197,\n",
       " 0.0009648206918235388,\n",
       " 0.00094850141786704829,\n",
       " 0.00093254832792154631,\n",
       " 0.00091695104052715395,\n",
       " 0.00090169953084890818,\n",
       " 0.00088678411629296002,\n",
       " 0.00087219544278810477,\n",
       " 0.00085792447169799114,\n",
       " 0.00084396246733131619,\n",
       " 0.00083030098501925612,\n",
       " 0.00081693185973107161,\n",
       " 0.00080384719520055982,\n",
       " 0.00079103935353749583,\n",
       " 0.00077850094529971492,\n",
       " 0.00076622482000279107,\n",
       " 0.00075420405704559575,\n",
       " 0.00074243195703122542,\n",
       " 0.0007309020334637904,\n",
       " 0.0007196080048028975,\n",
       " 0.00070854378685821764,\n",
       " 0.00069770348550798975,\n",
       " 0.00068708138972567998,\n",
       " 0.00067667196490030126,\n",
       " 0.00066646984643627463,\n",
       " 0.00065646983361977392,\n",
       " 0.00064666688373897258,\n",
       " 0.00063705610644639379,\n",
       " 0.00062763275835207269,\n",
       " 0.0006183922378369545,\n",
       " 0.00060933008007630631,\n",
       " 0.00060044195226366414,\n",
       " 0.00059172364902612359,\n",
       " 0.00058317108802240984,\n",
       " 0.00057478030571541186,\n",
       " 0.00056654745331145948,\n",
       " 0.0005584687928589159,\n",
       " 0.00055054069349901535,\n",
       " 0.00054275962786224144,\n",
       " 0.0005351221686039424,\n",
       " 0.00052762498507299169,\n",
       " 0.00052026484010786966,\n",
       " 0.00051303858695457311,\n",
       " 0.00050594316630115635,\n",
       " 0.00049897560342395471,\n",
       " 0.00049213300544070947,\n",
       " 0.00048541255866606334,\n",
       " 0.00047881152606520257,\n",
       " 0.0004723272448014515,\n",
       " 0.00046595712387394075,\n",
       " 0.00045969864184163011,\n",
       " 0.00045354934463011441,\n",
       " 0.00044750684341782676,\n",
       " 0.00044156881259834488]"
      ]
     },
     "execution_count": 86,
     "metadata": {},
     "output_type": "execute_result"
    }
   ],
   "source": [
    "#cost values are decreasing(mse is decreasing)\n",
    "errors"
   ]
  },
  {
   "cell_type": "markdown",
   "metadata": {},
   "source": [
    "#### Plot of Total Cost vs Iterations"
   ]
  },
  {
   "cell_type": "code",
   "execution_count": 87,
   "metadata": {},
   "outputs": [
    {
     "data": {
      "text/plain": [
       "<matplotlib.text.Text at 0xe1d97b8>"
      ]
     },
     "execution_count": 87,
     "metadata": {},
     "output_type": "execute_result"
    },
    {
     "data": {
      "image/png": "[encoded data removed]",
      "text/plain": [
       "<matplotlib.figure.Figure at 0xde3a8d0>"
      ]
     },
     "metadata": {},
     "output_type": "display_data"
    }
   ],
   "source": [
    "#Mean squared error is decreasing as you can see in the plot below.\n",
    "plt.scatter(error_history,count_iterations)\n",
    "plt.xlabel(\"Total Cost\")\n",
    "plt.ylabel(\"Iterations\")\n",
    "plt.title(\"Total Cost vs Iterations plot\")"
   ]
  },
  {
   "cell_type": "markdown",
   "metadata": {},
   "source": [
    "####  Plot of every parameter θ vs the iterations"
   ]
  },
  {
   "cell_type": "code",
   "execution_count": 89,
   "metadata": {},
   "outputs": [
    {
     "data": {
      "text/plain": [
       "<matplotlib.text.Text at 0xe5e9b38>"
      ]
     },
     "execution_count": 89,
     "metadata": {},
     "output_type": "execute_result"
    },
    {
     "data": {
      "image/png": "[encoded data removed]",
      "text/plain": [
       "<matplotlib.figure.Figure at 0xdcc81d0>"
      ]
     },
     "metadata": {},
     "output_type": "display_data"
    }
   ],
   "source": [
    "plt.scatter(theta_one_plot_store[:,0],count_iterations)\n",
    "plt.xlabel(\"Theta one (1st value)\")\n",
    "plt.ylabel(\"Iterations\")\n",
    "plt.title(\"Theta one vs Iterations plot\")"
   ]
  },
  {
   "cell_type": "code",
   "execution_count": 90,
   "metadata": {},
   "outputs": [
    {
     "data": {
      "text/plain": [
       "<matplotlib.text.Text at 0xe859c18>"
      ]
     },
     "execution_count": 90,
     "metadata": {},
     "output_type": "execute_result"
    },
    {
     "data": {
      "image/png": "[encoded data removed]",
      "text/plain": [
       "<matplotlib.figure.Figure at 0xe78a630>"
      ]
     },
     "metadata": {},
     "output_type": "display_data"
    }
   ],
   "source": [
    "plt.scatter(theta_one_plot_store[:,1],count_iterations)\n",
    "plt.xlabel(\"Theta one(2nd value)\")\n",
    "plt.ylabel(\"Iterations\")\n",
    "plt.title(\"Theta one vs Iterations plot\")"
   ]
  },
  {
   "cell_type": "code",
   "execution_count": 91,
   "metadata": {},
   "outputs": [
    {
     "data": {
      "text/plain": [
       "<matplotlib.text.Text at 0xea99358>"
      ]
     },
     "execution_count": 91,
     "metadata": {},
     "output_type": "execute_result"
    },
    {
     "data": {
      "image/png": "[encoded data removed]",
      "text/plain": [
       "<matplotlib.figure.Figure at 0xe9c8860>"
      ]
     },
     "metadata": {},
     "output_type": "display_data"
    }
   ],
   "source": [
    "plt.scatter(theta_one_plot_store[:,2],count_iterations)\n",
    "plt.xlabel(\"Theta one(3rd value)\")\n",
    "plt.ylabel(\"Iterations\")\n",
    "plt.title(\"Theta one vs Iterations plot\")"
   ]
  },
  {
   "cell_type": "code",
   "execution_count": 94,
   "metadata": {},
   "outputs": [
    {
     "data": {
      "text/plain": [
       "<matplotlib.text.Text at 0xf5182b0>"
      ]
     },
     "execution_count": 94,
     "metadata": {},
     "output_type": "execute_result"
    },
    {
     "data": {
      "image/png": "[encoded data removed]",
      "text/plain": [
       "<matplotlib.figure.Figure at 0xf449828>"
      ]
     },
     "metadata": {},
     "output_type": "display_data"
    }
   ],
   "source": [
    "plt.scatter(theta_one_plot_store[:,3],count_iterations)\n",
    "plt.xlabel(\"Theta one(4th value)\")\n",
    "plt.ylabel(\"Iterations\")\n",
    "plt.title(\"Theta one vs Iterations plot\")"
   ]
  },
  {
   "cell_type": "code",
   "execution_count": 95,
   "metadata": {},
   "outputs": [
    {
     "data": {
      "text/plain": [
       "<matplotlib.text.Text at 0xf741a58>"
      ]
     },
     "execution_count": 95,
     "metadata": {},
     "output_type": "execute_result"
    },
    {
     "data": {
      "image/png": "[encoded data removed]",
      "text/plain": [
       "<matplotlib.figure.Figure at 0xf5d0f28>"
      ]
     },
     "metadata": {},
     "output_type": "display_data"
    }
   ],
   "source": [
    "plt.scatter(theta_one_plot_store[:,4],count_iterations)\n",
    "plt.xlabel(\"Theta one(5th value)\")\n",
    "plt.ylabel(\"Iterations\")\n",
    "plt.title(\"Theta one vs Iterations plot\")"
   ]
  },
  {
   "cell_type": "code",
   "execution_count": 96,
   "metadata": {},
   "outputs": [
    {
     "data": {
      "text/plain": [
       "<matplotlib.text.Text at 0xf971668>"
      ]
     },
     "execution_count": 96,
     "metadata": {},
     "output_type": "execute_result"
    },
    {
     "data": {
      "image/png": "[encoded data removed]",
      "text/plain": [
       "<matplotlib.figure.Figure at 0xf8a0f98>"
      ]
     },
     "metadata": {},
     "output_type": "display_data"
    }
   ],
   "source": [
    "plt.scatter(theta_one_plot_store[:,5],count_iterations)\n",
    "plt.xlabel(\"Theta one(6th value)\")\n",
    "plt.ylabel(\"Iterations\")\n",
    "plt.title(\"Theta one vs Iterations plot\")"
   ]
  },
  {
   "cell_type": "code",
   "execution_count": 97,
   "metadata": {},
   "outputs": [
    {
     "data": {
      "text/plain": [
       "<matplotlib.text.Text at 0xfb52748>"
      ]
     },
     "execution_count": 97,
     "metadata": {},
     "output_type": "execute_result"
    },
    {
     "data": {
      "image/png": "[encoded data removed]",
      "text/plain": [
       "<matplotlib.figure.Figure at 0xfa29c18>"
      ]
     },
     "metadata": {},
     "output_type": "display_data"
    }
   ],
   "source": [
    "plt.scatter(theta_two_plot_store[:,0],count_iterations)\n",
    "plt.xlabel(\"Theta two(1st value)\")\n",
    "plt.ylabel(\"Iterations\")\n",
    "plt.title(\"Theta two vs Iterations plot\")"
   ]
  },
  {
   "cell_type": "code",
   "execution_count": 98,
   "metadata": {},
   "outputs": [
    {
     "data": {
      "text/plain": [
       "<matplotlib.text.Text at 0xfd80828>"
      ]
     },
     "execution_count": 98,
     "metadata": {},
     "output_type": "execute_result"
    },
    {
     "data": {
      "image/png": "[encoded data removed]",
      "text/plain": [
       "<matplotlib.figure.Figure at 0xfce8748>"
      ]
     },
     "metadata": {},
     "output_type": "display_data"
    }
   ],
   "source": [
    "plt.scatter(theta_two_plot_store[:,1],count_iterations)\n",
    "plt.xlabel(\"Theta two(2nd value)\")\n",
    "plt.ylabel(\"Iterations\")\n",
    "plt.title(\"Theta two vs Iterations plot\")"
   ]
  },
  {
   "cell_type": "code",
   "execution_count": 99,
   "metadata": {},
   "outputs": [
    {
     "data": {
      "text/plain": [
       "<matplotlib.text.Text at 0xffb9f28>"
      ]
     },
     "execution_count": 99,
     "metadata": {},
     "output_type": "execute_result"
    },
    {
     "data": {
      "image/png": "[encoded data removed]",
      "text/plain": [
       "<matplotlib.figure.Figure at 0xff43668>"
      ]
     },
     "metadata": {},
     "output_type": "display_data"
    }
   ],
   "source": [
    "plt.scatter(theta_two_plot_store[:,2],count_iterations)\n",
    "plt.xlabel(\"Theta two(3rd value)\")\n",
    "plt.ylabel(\"Iterations\")\n",
    "plt.title(\"Theta two vs Iterations plot\")"
   ]
  },
  {
   "cell_type": "code",
   "execution_count": 100,
   "metadata": {},
   "outputs": [
    {
     "data": {
      "text/plain": [
       "<matplotlib.text.Text at 0x101f9048>"
      ]
     },
     "execution_count": 100,
     "metadata": {},
     "output_type": "execute_result"
    },
    {
     "data": {
      "image/png": "[encoded data removed]",
      "text/plain": [
       "<matplotlib.figure.Figure at 0x100ff780>"
      ]
     },
     "metadata": {},
     "output_type": "display_data"
    }
   ],
   "source": [
    "plt.scatter(theta_two_plot_store[:,3],count_iterations)\n",
    "plt.xlabel(\"Theta two(4th value)\")\n",
    "plt.ylabel(\"Iterations\")\n",
    "plt.title(\"Theta two vs Iterations plot\")"
   ]
  },
  {
   "cell_type": "code",
   "execution_count": 101,
   "metadata": {},
   "outputs": [
    {
     "data": {
      "text/plain": [
       "<matplotlib.text.Text at 0x1042c1d0>"
      ]
     },
     "execution_count": 101,
     "metadata": {},
     "output_type": "execute_result"
    },
    {
     "data": {
      "image/png": "[encoded data removed]",
      "text/plain": [
       "<matplotlib.figure.Figure at 0x1033c2b0>"
      ]
     },
     "metadata": {},
     "output_type": "display_data"
    }
   ],
   "source": [
    "plt.scatter(theta_two_plot_store[:,4],count_iterations)\n",
    "plt.xlabel(\"Theta two(5th value)\")\n",
    "plt.ylabel(\"Iterations\")\n",
    "plt.title(\"Theta two vs Iterations plot\")"
   ]
  },
  {
   "cell_type": "code",
   "execution_count": 102,
   "metadata": {},
   "outputs": [
    {
     "data": {
      "text/plain": [
       "<matplotlib.text.Text at 0x10651828>"
      ]
     },
     "execution_count": 102,
     "metadata": {},
     "output_type": "execute_result"
    },
    {
     "data": {
      "image/png": "[encoded data removed]",
      "text/plain": [
       "<matplotlib.figure.Figure at 0x1054a358>"
      ]
     },
     "metadata": {},
     "output_type": "display_data"
    }
   ],
   "source": [
    "plt.scatter(theta_two_plot_store[:,5],count_iterations)\n",
    "plt.xlabel(\"Theta two(6th value)\")\n",
    "plt.ylabel(\"Iterations\")\n",
    "plt.title(\"Theta two vs Iterations plot\")"
   ]
  },
  {
   "cell_type": "code",
   "execution_count": null,
   "metadata": {
    "collapsed": true
   },
   "outputs": [],
   "source": []
  }
 ],
 "metadata": {
  "kernelspec": {
   "display_name": "Python 3",
   "language": "python",
   "name": "python3"
  },
  "language_info": {
   "codemirror_mode": {
    "name": "ipython",
    "version": 3
   },
   "file_extension": ".py",
   "mimetype": "text/x-python",
   "name": "python",
   "nbconvert_exporter": "python",
   "pygments_lexer": "ipython3",
   "version": "3.6.3"
  }
 },
 "nbformat": 4,
 "nbformat_minor": 2
}
